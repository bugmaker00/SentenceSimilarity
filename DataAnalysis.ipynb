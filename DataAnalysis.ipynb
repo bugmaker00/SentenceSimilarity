{
 "cells": [
  {
   "cell_type": "markdown",
   "metadata": {},
   "source": [
    "# Data Analysis\n",
    "\n",
    "* [Typo 錯別字](#typo)\n",
    "* [Irregular character 不規範字符](#irregular-character)\n",
    "\n",
    "> * [rapidsai/cudf: cuDF - GPU DataFrame Library](https://github.com/rapidsai/cudf)\n",
    "> * [Numba: A High Performance Python Compiler](https://numba.pydata.org/)"
   ]
  },
  {
   "cell_type": "code",
   "execution_count": null,
   "metadata": {
    "ExecuteTime": {
     "end_time": "2019-10-12T08:47:26.197075Z",
     "start_time": "2019-10-12T08:47:26.192541Z"
    }
   },
   "outputs": [],
   "source": [
    "# Just run at the first time\n",
    "# !python3 -m pip install pypinyin # dependency\n",
    "# !python3 -m pip install pycorrector"
   ]
  },
  {
   "cell_type": "code",
   "execution_count": null,
   "metadata": {
    "ExecuteTime": {
     "end_time": "2019-10-12T08:47:27.742263Z",
     "start_time": "2019-10-12T08:47:26.200389Z"
    }
   },
   "outputs": [],
   "source": [
    "# ignore warning in jupyter notebook\n",
    "import warnings\n",
    "warnings.filterwarnings('ignore')\n",
    "\n",
    "import pandas as pd"
   ]
  },
  {
   "cell_type": "code",
   "execution_count": null,
   "metadata": {
    "ExecuteTime": {
     "end_time": "2019-10-12T08:47:27.756717Z",
     "start_time": "2019-10-12T08:47:27.746102Z"
    }
   },
   "outputs": [],
   "source": [
    "# Helper Function\n",
    "\n",
    "data_file = {\n",
    "    \"Ant\": \"raw_data/competition_train.csv\",\n",
    "    \"CCSK\": \"raw_data/task3_train.txt\"\n",
    "}\n",
    "\n",
    "pd_common_param = {\n",
    "    \"delimiter\": \"\\t\",\n",
    "    \"names\": [\"sentence1\", \"sentence2\", \"label\"]\n",
    "}\n",
    "\n",
    "# TODO: remember to remove .head()\n",
    "def load_sentences(dataset):\n",
    "    if dataset == \"Ant\":\n",
    "        data = pd.read_csv(data_file[dataset], index_col=0, **pd_common_param)\n",
    "    elif dataset == \"CCSK\":\n",
    "        data = pd.read_csv(data_file[dataset], **pd_common_param)\n",
    "    \n",
    "    sentences = list(set(data['sentence1'].to_list() + data['sentence2'].to_list()))\n",
    "    \n",
    "    return sentences\n",
    "    "
   ]
  },
  {
   "cell_type": "markdown",
   "metadata": {},
   "source": [
    "## Typo & Irregular character using `pycorrector`\n",
    "\n",
    "> Resources\n",
    "> * [自然語言處理-錯字識別（基於Python）kenlm、pycorrector](https://cloud.tencent.com/developer/article/1387643)\n",
    "> * [shibing624/pycorrector: pycorrector is a toolkit for text error correction. It was developed to facilitate the designing, comparing, and sharing of deep text error correction models.](https://github.com/shibing624/pycorrector)"
   ]
  },
  {
   "cell_type": "code",
   "execution_count": null,
   "metadata": {
    "ExecuteTime": {
     "end_time": "2019-10-12T08:54:48.779518Z",
     "start_time": "2019-10-12T08:54:48.745507Z"
    }
   },
   "outputs": [],
   "source": [
    "import pycorrector\n",
    "# ignore warning messages of INFO and DEBUG\n",
    "pycorrector.set_log_level('WARN')\n",
    "import multiprocessing as mp\n",
    "import numpy as np"
   ]
  },
  {
   "cell_type": "code",
   "execution_count": null,
   "metadata": {
    "ExecuteTime": {
     "end_time": "2019-10-12T08:54:49.700665Z",
     "start_time": "2019-10-12T08:54:48.870720Z"
    }
   },
   "outputs": [],
   "source": [
    "# Load sentences\n",
    "ant_sentences = load_sentences(\"Ant\")\n",
    "ccsk_sentences = load_sentences(\"CCSK\")\n",
    "\n",
    "class TypoCounter:\n",
    "    def __init__(self, sentences):\n",
    "        self.ss = sentences\n",
    "        self.n = len(sentences)\n",
    "        self.corrector = pycorrector.corrector\n",
    "        self.results = []\n",
    "        \n",
    "    def _count_i(self, i):\n",
    "        # count correctness on single sentence of index i\n",
    "        return len(self.corrector.correct(self.ss[i])[1])\n",
    "   \n",
    "    def _collect_result(self, result):\n",
    "        self.results.append(result)\n",
    "\n",
    "    def count_incorrect_chars(self):\n",
    "        pool = mp.Pool(mp.cpu_count())\n",
    "        result_objs = [pool.apply_async(self._count_i, args=(i, )) for i in range(self.n)]\n",
    "        pool.close()\n",
    "        return [r.get() for r in result_objs]\n"
   ]
  },
  {
   "cell_type": "code",
   "execution_count": null,
   "metadata": {
    "ExecuteTime": {
     "end_time": "2019-10-12T08:56:07.750840Z",
     "start_time": "2019-10-12T08:54:49.703996Z"
    }
   },
   "outputs": [],
   "source": [
    "AntCounter = TypoCounter(ant_sentences)\n",
    "\n",
    "print(\"Incorrect characters count in Ant:\", np.sum(AntCounter.count_incorrect_chars()))"
   ]
  },
  {
   "cell_type": "code",
   "execution_count": null,
   "metadata": {
    "ExecuteTime": {
     "end_time": "2019-10-12T08:57:08.995847Z",
     "start_time": "2019-10-12T08:56:13.518490Z"
    }
   },
   "outputs": [],
   "source": [
    "CCSKCounter = TypoCounter(ccsk_sentences)\n",
    "\n",
    "print(\"Incorrect characters count in CCSK:\", np.sum(CCSKCounter.count_incorrect_chars()))"
   ]
  },
  {
   "cell_type": "markdown",
   "metadata": {},
   "source": [
    "## Appendix\n",
    "\n",
    "### Multithreading / Parallel\n",
    "\n",
    "* `multiprocessing`\n",
    "    * [**Parallel Processing in Python - A Practical Guide with Examples | ML+**](https://www.machinelearningplus.com/python/parallel-processing-python/)\n",
    "    * [parallel processing - How do I parallelize a simple Python loop? - Stack Overflow](https://stackoverflow.com/questions/9786102/how-do-i-parallelize-a-simple-python-loop)\n",
    "* `Numba Jit`\n",
    "    * [1.10. Automatic parallelization with @jit — Numba 0.46.0.dev0+566.g5bd018fd5.dirty-py3.6-macosx-10.7-x86_64.egg documentation](https://numba.pydata.org/numba-doc/latest/user/parallel.html)\n",
    "    * [Python · numba 的基本應用 - 知乎](https://zhuanlan.zhihu.com/p/27152060)\n",
    "\n",
    "### Logging Level\n",
    "\n",
    "* [Understanding logging levels](https://www.ibm.com/support/knowledgecenter/en/SSEP7J_10.2.2/com.ibm.swg.ba.cognos.ug_rtm_wb.10.2.2.doc/c_n30e74.html)\n",
    "* [python - Hide all warnings in ipython - Stack Overflow](https://stackoverflow.com/questions/9031783/hide-all-warnings-in-ipython)\n"
   ]
  }
 ],
 "metadata": {
  "kernelspec": {
   "display_name": "Python 3",
   "language": "python",
   "name": "python3"
  },
  "language_info": {
   "codemirror_mode": {
    "name": "ipython",
    "version": 3
   },
   "file_extension": ".py",
   "mimetype": "text/x-python",
   "name": "python",
   "nbconvert_exporter": "python",
   "pygments_lexer": "ipython3",
   "version": "3.6.5"
  },
  "latex_envs": {
   "LaTeX_envs_menu_present": true,
   "autoclose": false,
   "autocomplete": true,
   "bibliofile": "biblio.bib",
   "cite_by": "apalike",
   "current_citInitial": 1,
   "eqLabelWithNumbers": true,
   "eqNumInitial": 1,
   "hotkeys": {
    "equation": "Ctrl-E",
    "itemize": "Ctrl-I"
   },
   "labels_anchors": false,
   "latex_user_defs": false,
   "report_style_numbering": false,
   "user_envs_cfg": false
  }
 },
 "nbformat": 4,
 "nbformat_minor": 2
}
