{
 "cells": [
  {
   "cell_type": "markdown",
   "metadata": {},
   "source": [
    "# Data Analysis\n",
    "\n",
    "* [Typo 錯別字](#typo)\n",
    "* [Irregular character 不規範字符](#irregular-character)\n",
    "\n",
    "> * [rapidsai/cudf: cuDF - GPU DataFrame Library](https://github.com/rapidsai/cudf)"
   ]
  },
  {
   "cell_type": "code",
   "execution_count": null,
   "metadata": {
    "ExecuteTime": {
     "end_time": "2019-10-12T07:18:27.569186Z",
     "start_time": "2019-10-12T07:18:27.565349Z"
    }
   },
   "outputs": [],
   "source": [
    "# Just run at the first time\n",
    "# !python3 -m pip install pypinyin # dependency\n",
    "# !python3 -m pip install pycorrector"
   ]
  },
  {
   "cell_type": "code",
   "execution_count": null,
   "metadata": {
    "ExecuteTime": {
     "end_time": "2019-10-12T07:18:34.588735Z",
     "start_time": "2019-10-12T07:18:27.574769Z"
    }
   },
   "outputs": [],
   "source": [
    "import pandas as pd"
   ]
  },
  {
   "cell_type": "code",
   "execution_count": null,
   "metadata": {
    "ExecuteTime": {
     "end_time": "2019-10-12T07:18:34.646705Z",
     "start_time": "2019-10-12T07:18:34.594383Z"
    }
   },
   "outputs": [],
   "source": [
    "# Helper Function\n",
    "\n",
    "data_file = {\n",
    "    \"Ant\": \"raw_data/competition_train.csv\",\n",
    "    \"CCSK\": \"raw_data/task3_train.txt\"\n",
    "}\n",
    "\n",
    "pd_common_param = {\n",
    "    \"delimiter\": \"\\t\",\n",
    "    \"names\": [\"sentence1\", \"sentence2\", \"label\"]\n",
    "}\n",
    "\n",
    "# TODO: remember to remove .head()\n",
    "def load_sentences(dataset):\n",
    "    if dataset == \"Ant\":\n",
    "        data = pd.read_csv(data_file[dataset], index_col=0, **pd_common_param)\n",
    "    elif dataset == \"CCSK\":\n",
    "        data = pd.read_csv(data_file[dataset], **pd_common_param)\n",
    "    \n",
    "    sentences = list(set(data['sentence1'].to_list() + data['sentence2'].to_list()))\n",
    "    \n",
    "    return sentences\n",
    "    "
   ]
  },
  {
   "cell_type": "markdown",
   "metadata": {},
   "source": [
    "## Typo & Irregular character using `pycorrector`\n",
    "\n",
    "> Resources\n",
    "> * [自然語言處理-錯字識別（基於Python）kenlm、pycorrector](https://cloud.tencent.com/developer/article/1387643)\n",
    "> * [shibing624/pycorrector: pycorrector is a toolkit for text error correction. It was developed to facilitate the designing, comparing, and sharing of deep text error correction models.](https://github.com/shibing624/pycorrector)"
   ]
  },
  {
   "cell_type": "code",
   "execution_count": null,
   "metadata": {},
   "outputs": [],
   "source": [
    "import pycorrector"
   ]
  },
  {
   "cell_type": "code",
   "execution_count": null,
   "metadata": {
    "ExecuteTime": {
     "end_time": "2019-10-12T07:18:35.350616Z",
     "start_time": "2019-10-12T07:18:34.673602Z"
    }
   },
   "outputs": [],
   "source": [
    "# Load sentences\n",
    "ant_sentences = load_sentences(\"Ant\")\n",
    "ccsk_sentences = load_sentences(\"CCSK\")\n",
    "\n",
    "def count_incorrect_words(sentences):\n",
    "    return sum([len(pycorrector.correct(s)[1]) for s in sentences])"
   ]
  },
  {
   "cell_type": "code",
   "execution_count": null,
   "metadata": {
    "ExecuteTime": {
     "start_time": "2019-10-12T07:18:27.577Z"
    }
   },
   "outputs": [],
   "source": [
    "print(\"Incorrect characters count in Ant:\", count_incorrect_words(ant_sentences))\n",
    "print(\"Incorrect characters count in CCSK:\", count_incorrect_words(ccsk_sentences))"
   ]
  }
 ],
 "metadata": {
  "kernelspec": {
   "display_name": "Python 3",
   "language": "python",
   "name": "python3"
  },
  "language_info": {
   "codemirror_mode": {
    "name": "ipython",
    "version": 3
   },
   "file_extension": ".py",
   "mimetype": "text/x-python",
   "name": "python",
   "nbconvert_exporter": "python",
   "pygments_lexer": "ipython3",
   "version": "3.6.5"
  },
  "latex_envs": {
   "LaTeX_envs_menu_present": true,
   "autoclose": false,
   "autocomplete": true,
   "bibliofile": "biblio.bib",
   "cite_by": "apalike",
   "current_citInitial": 1,
   "eqLabelWithNumbers": true,
   "eqNumInitial": 1,
   "hotkeys": {
    "equation": "Ctrl-E",
    "itemize": "Ctrl-I"
   },
   "labels_anchors": false,
   "latex_user_defs": false,
   "report_style_numbering": false,
   "user_envs_cfg": false
  }
 },
 "nbformat": 4,
 "nbformat_minor": 2
}
